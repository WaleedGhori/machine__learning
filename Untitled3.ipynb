{
 "cells": [
  {
   "cell_type": "code",
   "execution_count": 10,
   "id": "0993cd4e",
   "metadata": {},
   "outputs": [
    {
     "data": {
      "text/plain": [
       "1.0"
      ]
     },
     "execution_count": 10,
     "metadata": {},
     "output_type": "execute_result"
    }
   ],
   "source": [
    "import pandas as pd\n",
    "from sklearn.tree import DecisionTreeClassifier\n",
    "from sklearn.model_selection import train_test_split \n",
    "from sklearn.metrics import accuracy_score\n",
    "import joblib\n",
    "\n",
    "df = pd.read_csv('music.csv')\n",
    "\n",
    "X = df.drop(columns=['genre']) # this is a input\n",
    "y = df['genre'] # this is a outp\n",
    "model = DecisionTreeClassifier()\n",
    "x_train , x_test , y_train , y_test = train_test_split(X , y , test_size=0.2)\n",
    "model.fit(x_train , y_train)\n",
    "\n",
    "predictions = model.predict(x_test)\n",
    "score  = accuracy_score(y_test , predictions)\n",
    "score\n"
   ]
  },
  {
   "cell_type": "code",
   "execution_count": 20,
   "id": "4cbd45ed",
   "metadata": {},
   "outputs": [
    {
     "name": "stderr",
     "output_type": "stream",
     "text": [
      "C:\\Users\\Waleed\\anaconda3\\Lib\\site-packages\\sklearn\\base.py:464: UserWarning: X does not have valid feature names, but DecisionTreeClassifier was fitted with feature names\n",
      "  warnings.warn(\n"
     ]
    },
    {
     "data": {
      "text/plain": [
       "array(['Dance'], dtype=object)"
      ]
     },
     "execution_count": 20,
     "metadata": {},
     "output_type": "execute_result"
    }
   ],
   "source": [
    "import joblib\n",
    "# df1 = pd.read_csv('music.csv')\n",
    "# X = df1.drop(columns=['genre'])\n",
    "# y = df1['genre']\n",
    "\n",
    "# model1 = DecisionTreeClassifier()\n",
    "# model1.fit(X ,y)\n",
    "# model1 = joblib.dump(model1 , 'music-recommended1.joblib')\n",
    "\n",
    "model1 = joblib.load('music-recommended1.joblib')\n",
    "predictions = model1.predict([[21 , 0]])\n",
    "predictions\n",
    "\n",
    "\n"
   ]
  },
  {
   "cell_type": "code",
   "execution_count": 22,
   "id": "3fc5d99f",
   "metadata": {},
   "outputs": [],
   "source": [
    "import pandas as pd\n",
    "from sklearn.tree import DecisionTreeClassifier\n",
    "from sklearn  import tree\n",
    "\n",
    "df = pd.read_csv('music.csv')\n",
    "\n",
    "X = df.drop(columns=['genre']) # this is a input\n",
    "y = df['genre'] # this is a outp\n",
    "model2 = DecisionTreeClassifier()\n",
    "model2.fit(X , y)\n",
    "tree.export_graphviz(model2,out_file='music_recommender2.dot', feature_names = ['age' ,'gender'] , \n",
    "                     class_names=sorted(y.unique()), label='all',\n",
    "                    rounded = True  , filled = True)\n"
   ]
  }
 ],
 "metadata": {
  "kernelspec": {
   "display_name": "Python 3 (ipykernel)",
   "language": "python",
   "name": "python3"
  },
  "language_info": {
   "codemirror_mode": {
    "name": "ipython",
    "version": 3
   },
   "file_extension": ".py",
   "mimetype": "text/x-python",
   "name": "python",
   "nbconvert_exporter": "python",
   "pygments_lexer": "ipython3",
   "version": "3.11.4"
  }
 },
 "nbformat": 4,
 "nbformat_minor": 5
}
