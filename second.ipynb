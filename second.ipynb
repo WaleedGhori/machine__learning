{
 "cells": [
  {
   "cell_type": "code",
   "execution_count": 26,
   "id": "7fb1d76f",
   "metadata": {},
   "outputs": [
    {
     "data": {
      "text/plain": [
       "1.0"
      ]
     },
     "execution_count": 26,
     "metadata": {},
     "output_type": "execute_result"
    }
   ],
   "source": [
    "import pandas as pd\n",
    "from sklearn import tree\n",
    "from sklearn.model_selection import train_test_split\n",
    "from sklearn.metrics import accuracy_score\n",
    "\n",
    "data_music = pd.read_csv('music.csv')\n",
    "X = data_music.drop(columns=['genre']) \n",
    "y = data_music['genre']\n",
    "x_train , x_test , y_train , y_test = train_test_split(X ,y ,test_size=0.2)\n",
    "\n",
    "model = tree.DecisionTreeClassifier()\n",
    "\n",
    "model.fit(x_train , y_train)\n",
    "predictions = model.predict(x_test)\n",
    "score = accuracy_score(y_test , predictions)\n",
    "score"
   ]
  },
  {
   "cell_type": "code",
   "execution_count": null,
   "id": "9a86358e",
   "metadata": {},
   "outputs": [],
   "source": []
  }
 ],
 "metadata": {
  "kernelspec": {
   "display_name": "Python 3 (ipykernel)",
   "language": "python",
   "name": "python3"
  },
  "language_info": {
   "codemirror_mode": {
    "name": "ipython",
    "version": 3
   },
   "file_extension": ".py",
   "mimetype": "text/x-python",
   "name": "python",
   "nbconvert_exporter": "python",
   "pygments_lexer": "ipython3",
   "version": "3.11.4"
  }
 },
 "nbformat": 4,
 "nbformat_minor": 5
}
